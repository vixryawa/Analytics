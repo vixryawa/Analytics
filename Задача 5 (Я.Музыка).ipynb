{
 "cells": [
  {
   "cell_type": "markdown",
   "metadata": {},
   "source": [
    "# Шаг 1: Загружаю данные и делаю предобработку"
   ]
  },
  {
   "cell_type": "code",
   "execution_count": 1,
   "metadata": {},
   "outputs": [],
   "source": [
    "import pandas as pd\n",
    "from matplotlib import pyplot as plt\n",
    "import numpy as np\n",
    "import seaborn as sns\n",
    "%matplotlib inline\n",
    "import datetime"
   ]
  },
  {
   "cell_type": "code",
   "execution_count": 2,
   "metadata": {},
   "outputs": [],
   "source": [
    "df = pd.read_csv('music_data.csv')"
   ]
  },
  {
   "cell_type": "code",
   "execution_count": 3,
   "metadata": {
    "scrolled": false
   },
   "outputs": [
    {
     "data": {
      "text/html": [
       "<div>\n",
       "<style scoped>\n",
       "    .dataframe tbody tr th:only-of-type {\n",
       "        vertical-align: middle;\n",
       "    }\n",
       "\n",
       "    .dataframe tbody tr th {\n",
       "        vertical-align: top;\n",
       "    }\n",
       "\n",
       "    .dataframe thead th {\n",
       "        text-align: right;\n",
       "    }\n",
       "</style>\n",
       "<table border=\"1\" class=\"dataframe\">\n",
       "  <thead>\n",
       "    <tr style=\"text-align: right;\">\n",
       "      <th></th>\n",
       "      <th>Unnamed: 0</th>\n",
       "      <th>audition_id</th>\n",
       "      <th>track_duration</th>\n",
       "      <th>track_genre</th>\n",
       "      <th>track_id</th>\n",
       "      <th>user_id</th>\n",
       "      <th>utc_audition_end_dttm</th>\n",
       "      <th>utc_audition_start_dttm</th>\n",
       "    </tr>\n",
       "  </thead>\n",
       "  <tbody>\n",
       "    <tr>\n",
       "      <th>0</th>\n",
       "      <td>0</td>\n",
       "      <td>3fecd60bf5564de7bb0064335f482b4d</td>\n",
       "      <td>336.629082</td>\n",
       "      <td>RAP</td>\n",
       "      <td>efd614e5-239a-418e-b39c-181b43719b62</td>\n",
       "      <td>a72d73ea124840698aa8</td>\n",
       "      <td>2021-02-28 12:32:10.776000+00:00</td>\n",
       "      <td>2021-02-28 12:31:01.865000+00:00</td>\n",
       "    </tr>\n",
       "    <tr>\n",
       "      <th>1</th>\n",
       "      <td>1</td>\n",
       "      <td>8ae1703df8354ee6b8d39ce2ceae4508</td>\n",
       "      <td>428.797846</td>\n",
       "      <td>VOCAL</td>\n",
       "      <td>d4697e6e-698a-41e8-8e15-ec890c94751e</td>\n",
       "      <td>066cc9287de340f281ba</td>\n",
       "      <td>2021-01-19 12:13:43.369000+00:00</td>\n",
       "      <td>2021-01-19 12:12:48.185000+00:00</td>\n",
       "    </tr>\n",
       "    <tr>\n",
       "      <th>2</th>\n",
       "      <td>2</td>\n",
       "      <td>44383125d98a4d939e7f294602674fc6</td>\n",
       "      <td>463.467143</td>\n",
       "      <td>METAL</td>\n",
       "      <td>e006afab-c832-4d07-8cd0-7d4a9c2aabe8</td>\n",
       "      <td>95ed23b52b104f66b4b1</td>\n",
       "      <td>2021-02-27 19:53:57.143000+00:00</td>\n",
       "      <td>2021-02-27 19:52:42.470000+00:00</td>\n",
       "    </tr>\n",
       "    <tr>\n",
       "      <th>3</th>\n",
       "      <td>3</td>\n",
       "      <td>a90b74992c9f4046a68935cb83ced7ee</td>\n",
       "      <td>323.746259</td>\n",
       "      <td>HARDROCK</td>\n",
       "      <td>c2ea845c-fcba-480a-b41a-d58bf9493375</td>\n",
       "      <td>b0a6dcec6f604b50b37e</td>\n",
       "      <td>2021-02-24 01:51:44.526000+00:00</td>\n",
       "      <td>2021-02-24 01:46:25.549000+00:00</td>\n",
       "    </tr>\n",
       "    <tr>\n",
       "      <th>4</th>\n",
       "      <td>4</td>\n",
       "      <td>0d98a88fba0a4dc3bb0444089a0ce16b</td>\n",
       "      <td>316.888403</td>\n",
       "      <td>POP</td>\n",
       "      <td>ad68738c-2a38-4e0f-910a-71bb0aa0a0c0</td>\n",
       "      <td>6788b1c78a724de488c9</td>\n",
       "      <td>2020-12-24 05:04:32.855000+00:00</td>\n",
       "      <td>2020-12-24 05:00:09.645000+00:00</td>\n",
       "    </tr>\n",
       "    <tr>\n",
       "      <th>...</th>\n",
       "      <td>...</td>\n",
       "      <td>...</td>\n",
       "      <td>...</td>\n",
       "      <td>...</td>\n",
       "      <td>...</td>\n",
       "      <td>...</td>\n",
       "      <td>...</td>\n",
       "      <td>...</td>\n",
       "    </tr>\n",
       "    <tr>\n",
       "      <th>842392</th>\n",
       "      <td>842392</td>\n",
       "      <td>45d2ac0d4fe049d387caf17a5243074e</td>\n",
       "      <td>360.581998</td>\n",
       "      <td>POP</td>\n",
       "      <td>7bedf37f-a671-4aa2-bcf9-e2defccbcb8e</td>\n",
       "      <td>e5e46188fe6d41f89faf</td>\n",
       "      <td>2021-02-05 09:17:07.865000+00:00</td>\n",
       "      <td>2021-02-05 09:11:33.925000+00:00</td>\n",
       "    </tr>\n",
       "    <tr>\n",
       "      <th>842393</th>\n",
       "      <td>842393</td>\n",
       "      <td>a0f30ab974e94b19b9be607f4ac55f76</td>\n",
       "      <td>373.243783</td>\n",
       "      <td>RAP</td>\n",
       "      <td>e06f3160-d57e-47f3-be08-33d3c5de26e8</td>\n",
       "      <td>f437ddab36c74c67a42d</td>\n",
       "      <td>2021-02-20 13:31:47.351000+00:00</td>\n",
       "      <td>2021-02-20 13:31:02.089000+00:00</td>\n",
       "    </tr>\n",
       "    <tr>\n",
       "      <th>842394</th>\n",
       "      <td>842394</td>\n",
       "      <td>ae2f051bbfa44cbdaf140ef2124e5e82</td>\n",
       "      <td>574.092229</td>\n",
       "      <td>BLUES</td>\n",
       "      <td>08de5d63-286b-40a2-b609-e7d85218f182</td>\n",
       "      <td>6d1fe5c707a7482a82e6</td>\n",
       "      <td>2021-02-26 17:00:06.380000+00:00</td>\n",
       "      <td>2021-02-26 16:54:46.656000+00:00</td>\n",
       "    </tr>\n",
       "    <tr>\n",
       "      <th>842395</th>\n",
       "      <td>842395</td>\n",
       "      <td>9fda54d3ad6841f0ad78e84c6abdf506</td>\n",
       "      <td>370.237483</td>\n",
       "      <td>POP</td>\n",
       "      <td>0397b6fb-a5fe-4e9c-b50d-ff9cff864bc7</td>\n",
       "      <td>7cb9103d77eb4a899c19</td>\n",
       "      <td>2021-02-25 06:57:20.404000+00:00</td>\n",
       "      <td>2021-02-25 06:52:09.760000+00:00</td>\n",
       "    </tr>\n",
       "    <tr>\n",
       "      <th>842396</th>\n",
       "      <td>842396</td>\n",
       "      <td>0cbfbb2e44e84116bc112f5c041a887c</td>\n",
       "      <td>519.360214</td>\n",
       "      <td>DUBSTEP</td>\n",
       "      <td>29314a82-c82e-4146-865b-f4368b96ca56</td>\n",
       "      <td>9830d91152d547c6b8fc</td>\n",
       "      <td>2021-02-26 04:49:59.839000+00:00</td>\n",
       "      <td>2021-02-26 04:41:40.213000+00:00</td>\n",
       "    </tr>\n",
       "  </tbody>\n",
       "</table>\n",
       "<p>842397 rows × 8 columns</p>\n",
       "</div>"
      ],
      "text/plain": [
       "        Unnamed: 0                       audition_id  track_duration  \\\n",
       "0                0  3fecd60bf5564de7bb0064335f482b4d      336.629082   \n",
       "1                1  8ae1703df8354ee6b8d39ce2ceae4508      428.797846   \n",
       "2                2  44383125d98a4d939e7f294602674fc6      463.467143   \n",
       "3                3  a90b74992c9f4046a68935cb83ced7ee      323.746259   \n",
       "4                4  0d98a88fba0a4dc3bb0444089a0ce16b      316.888403   \n",
       "...            ...                               ...             ...   \n",
       "842392      842392  45d2ac0d4fe049d387caf17a5243074e      360.581998   \n",
       "842393      842393  a0f30ab974e94b19b9be607f4ac55f76      373.243783   \n",
       "842394      842394  ae2f051bbfa44cbdaf140ef2124e5e82      574.092229   \n",
       "842395      842395  9fda54d3ad6841f0ad78e84c6abdf506      370.237483   \n",
       "842396      842396  0cbfbb2e44e84116bc112f5c041a887c      519.360214   \n",
       "\n",
       "       track_genre                              track_id  \\\n",
       "0              RAP  efd614e5-239a-418e-b39c-181b43719b62   \n",
       "1            VOCAL  d4697e6e-698a-41e8-8e15-ec890c94751e   \n",
       "2            METAL  e006afab-c832-4d07-8cd0-7d4a9c2aabe8   \n",
       "3         HARDROCK  c2ea845c-fcba-480a-b41a-d58bf9493375   \n",
       "4              POP  ad68738c-2a38-4e0f-910a-71bb0aa0a0c0   \n",
       "...            ...                                   ...   \n",
       "842392         POP  7bedf37f-a671-4aa2-bcf9-e2defccbcb8e   \n",
       "842393         RAP  e06f3160-d57e-47f3-be08-33d3c5de26e8   \n",
       "842394       BLUES  08de5d63-286b-40a2-b609-e7d85218f182   \n",
       "842395         POP  0397b6fb-a5fe-4e9c-b50d-ff9cff864bc7   \n",
       "842396     DUBSTEP  29314a82-c82e-4146-865b-f4368b96ca56   \n",
       "\n",
       "                     user_id            utc_audition_end_dttm  \\\n",
       "0       a72d73ea124840698aa8 2021-02-28 12:32:10.776000+00:00   \n",
       "1       066cc9287de340f281ba 2021-01-19 12:13:43.369000+00:00   \n",
       "2       95ed23b52b104f66b4b1 2021-02-27 19:53:57.143000+00:00   \n",
       "3       b0a6dcec6f604b50b37e 2021-02-24 01:51:44.526000+00:00   \n",
       "4       6788b1c78a724de488c9 2020-12-24 05:04:32.855000+00:00   \n",
       "...                      ...                              ...   \n",
       "842392  e5e46188fe6d41f89faf 2021-02-05 09:17:07.865000+00:00   \n",
       "842393  f437ddab36c74c67a42d 2021-02-20 13:31:47.351000+00:00   \n",
       "842394  6d1fe5c707a7482a82e6 2021-02-26 17:00:06.380000+00:00   \n",
       "842395  7cb9103d77eb4a899c19 2021-02-25 06:57:20.404000+00:00   \n",
       "842396  9830d91152d547c6b8fc 2021-02-26 04:49:59.839000+00:00   \n",
       "\n",
       "                utc_audition_start_dttm  \n",
       "0      2021-02-28 12:31:01.865000+00:00  \n",
       "1      2021-01-19 12:12:48.185000+00:00  \n",
       "2      2021-02-27 19:52:42.470000+00:00  \n",
       "3      2021-02-24 01:46:25.549000+00:00  \n",
       "4      2020-12-24 05:00:09.645000+00:00  \n",
       "...                                 ...  \n",
       "842392 2021-02-05 09:11:33.925000+00:00  \n",
       "842393 2021-02-20 13:31:02.089000+00:00  \n",
       "842394 2021-02-26 16:54:46.656000+00:00  \n",
       "842395 2021-02-25 06:52:09.760000+00:00  \n",
       "842396 2021-02-26 04:41:40.213000+00:00  \n",
       "\n",
       "[842397 rows x 8 columns]"
      ]
     },
     "execution_count": 3,
     "metadata": {},
     "output_type": "execute_result"
    }
   ],
   "source": [
    "df['utc_audition_start_dttm'] = pd.to_datetime(df.utc_audition_start_dttm, format='%Y-%m-%d %H:%M:%S')\n",
    "df['utc_audition_end_dttm'] = pd.to_datetime(df.utc_audition_end_dttm, format='%Y-%m-%d %H:%M:%S')\n",
    "df"
   ]
  },
  {
   "cell_type": "markdown",
   "metadata": {},
   "source": [
    "# Шаг 2: Считаю метрики и строю отчеты"
   ]
  },
  {
   "cell_type": "markdown",
   "metadata": {},
   "source": [
    "## Метрики\n",
    "- Сколько всего людей слушает техно в Яндекс.Музыке?\n",
    "- Как много времени пользователи суммарно проводят ежедневно за прослушиванием техно? А каждый из слушателей?\n",
    "- Какую долю занимает техно среди прослушанной музыки для каждого слушателя?\n",
    "- Как часто люди слушают техно хотя бы раз в день?\n",
    "- Какое DAU в этом году? За последний месяц?"
   ]
  },
  {
   "cell_type": "markdown",
   "metadata": {},
   "source": [
    "### Сколько всего людей слушает техно в Яндекс.Музыке?"
   ]
  },
  {
   "cell_type": "code",
   "execution_count": 20,
   "metadata": {},
   "outputs": [
    {
     "name": "stdout",
     "output_type": "stream",
     "text": [
      "Аудитория техно в Яндекс.Музыке - 1727 человек\n"
     ]
    }
   ],
   "source": [
    "total_num = df.where((df[\"track_genre\"]=='TECHNO')).groupby(\"user_id\")['track_id'].sum().count()\n",
    "print(\"Аудитория техно в Яндекс.Музыке - {} человек\".format(total_num))"
   ]
  },
  {
   "cell_type": "markdown",
   "metadata": {},
   "source": [
    "### Как много времени пользователи суммарно проводят ежедневно за прослушиванием техно?"
   ]
  },
  {
   "cell_type": "code",
   "execution_count": 5,
   "metadata": {},
   "outputs": [],
   "source": [
    "df['date'] = df['utc_audition_start_dttm'].dt.date\n",
    "df['duration_time'] = (df['utc_audition_end_dttm'] - df['utc_audition_start_dttm']).dt.total_seconds()"
   ]
  },
  {
   "cell_type": "code",
   "execution_count": 6,
   "metadata": {},
   "outputs": [
    {
     "data": {
      "text/plain": [
       "[<matplotlib.lines.Line2D at 0x7fa053f07670>]"
      ]
     },
     "execution_count": 6,
     "metadata": {},
     "output_type": "execute_result"
    },
    {
     "data": {
      "image/png": "[encoded data removed]",
      "text/plain": [
       "<Figure size 1280x800 with 1 Axes>"
      ]
     },
     "metadata": {
      "needs_background": "light"
     },
     "output_type": "display_data"
    }
   ],
   "source": [
    "df1 = df.where((df[\"track_genre\"]=='TECHNO')).groupby(pd.Grouper(key=\"utc_audition_start_dttm\", freq=\"D\"))['duration_time'].sum()\n",
    "plt.figure(figsize=(16, 10), dpi= 80)  \n",
    "plt.title(\"Time spent on listening to techno per day\", fontsize=22)\n",
    "plt.ylabel('Sec')\n",
    "plt.xlabel('Date')\n",
    "plt.plot(df1)"
   ]
  },
  {
   "cell_type": "markdown",
   "metadata": {},
   "source": [
    "В последний день сильное падение, связанное, скорее всего с тем, что логи за последний день неполные."
   ]
  },
  {
   "cell_type": "code",
   "execution_count": 7,
   "metadata": {},
   "outputs": [
    {
     "data": {
      "text/html": [
       "<div>\n",
       "<style scoped>\n",
       "    .dataframe tbody tr th:only-of-type {\n",
       "        vertical-align: middle;\n",
       "    }\n",
       "\n",
       "    .dataframe tbody tr th {\n",
       "        vertical-align: top;\n",
       "    }\n",
       "\n",
       "    .dataframe thead th {\n",
       "        text-align: right;\n",
       "    }\n",
       "</style>\n",
       "<table border=\"1\" class=\"dataframe\">\n",
       "  <thead>\n",
       "    <tr style=\"text-align: right;\">\n",
       "      <th></th>\n",
       "      <th>Unnamed: 0</th>\n",
       "      <th>audition_id</th>\n",
       "      <th>track_duration</th>\n",
       "      <th>track_genre</th>\n",
       "      <th>track_id</th>\n",
       "      <th>user_id</th>\n",
       "      <th>utc_audition_end_dttm</th>\n",
       "      <th>utc_audition_start_dttm</th>\n",
       "      <th>date</th>\n",
       "      <th>duration_time_x</th>\n",
       "      <th>duration_time_y</th>\n",
       "      <th>audition_part</th>\n",
       "    </tr>\n",
       "  </thead>\n",
       "  <tbody>\n",
       "    <tr>\n",
       "      <th>0</th>\n",
       "      <td>0</td>\n",
       "      <td>3fecd60bf5564de7bb0064335f482b4d</td>\n",
       "      <td>336.629082</td>\n",
       "      <td>RAP</td>\n",
       "      <td>efd614e5-239a-418e-b39c-181b43719b62</td>\n",
       "      <td>a72d73ea124840698aa8</td>\n",
       "      <td>2021-02-28 12:32:10.776000+00:00</td>\n",
       "      <td>2021-02-28 12:31:01.865000+00:00</td>\n",
       "      <td>2021-02-28</td>\n",
       "      <td>68.911</td>\n",
       "      <td>134760.131</td>\n",
       "      <td>0.000511</td>\n",
       "    </tr>\n",
       "    <tr>\n",
       "      <th>1</th>\n",
       "      <td>5120</td>\n",
       "      <td>5efcd1e737fc453695e3891d35a84a09</td>\n",
       "      <td>304.433401</td>\n",
       "      <td>PUNK</td>\n",
       "      <td>ae74c040-d495-45c6-b1aa-65fa8db57cd4</td>\n",
       "      <td>a72d73ea124840698aa8</td>\n",
       "      <td>2021-02-03 11:56:51.858000+00:00</td>\n",
       "      <td>2021-02-03 11:52:40.933000+00:00</td>\n",
       "      <td>2021-02-03</td>\n",
       "      <td>250.925</td>\n",
       "      <td>134760.131</td>\n",
       "      <td>0.001862</td>\n",
       "    </tr>\n",
       "    <tr>\n",
       "      <th>2</th>\n",
       "      <td>8800</td>\n",
       "      <td>ffbbaaa29a7347b88e31e4c28ee1cec7</td>\n",
       "      <td>367.648972</td>\n",
       "      <td>ROCK</td>\n",
       "      <td>6e519c7e-d843-433a-8fc8-e874c3c4cd08</td>\n",
       "      <td>a72d73ea124840698aa8</td>\n",
       "      <td>2021-01-29 18:01:14.981000+00:00</td>\n",
       "      <td>2021-01-29 18:00:43.282000+00:00</td>\n",
       "      <td>2021-01-29</td>\n",
       "      <td>31.699</td>\n",
       "      <td>134760.131</td>\n",
       "      <td>0.000235</td>\n",
       "    </tr>\n",
       "    <tr>\n",
       "      <th>3</th>\n",
       "      <td>10670</td>\n",
       "      <td>4760f98aba4447b89cc2cc3753d5f598</td>\n",
       "      <td>393.120824</td>\n",
       "      <td>POP</td>\n",
       "      <td>d2a2d322-3377-4343-9ffd-b20c9c379ddc</td>\n",
       "      <td>a72d73ea124840698aa8</td>\n",
       "      <td>2021-02-18 05:08:42.910000+00:00</td>\n",
       "      <td>2021-02-18 05:01:41.307000+00:00</td>\n",
       "      <td>2021-02-18</td>\n",
       "      <td>421.603</td>\n",
       "      <td>134760.131</td>\n",
       "      <td>0.003129</td>\n",
       "    </tr>\n",
       "    <tr>\n",
       "      <th>4</th>\n",
       "      <td>12506</td>\n",
       "      <td>02dc00ed734b46c6b64404977e2add3c</td>\n",
       "      <td>672.053874</td>\n",
       "      <td>ELECTRONICS</td>\n",
       "      <td>1013879d-5efc-4488-bd72-67d73e73dee6</td>\n",
       "      <td>a72d73ea124840698aa8</td>\n",
       "      <td>2020-12-09 15:17:46.098000+00:00</td>\n",
       "      <td>2020-12-09 15:08:11.260000+00:00</td>\n",
       "      <td>2020-12-09</td>\n",
       "      <td>574.838</td>\n",
       "      <td>134760.131</td>\n",
       "      <td>0.004266</td>\n",
       "    </tr>\n",
       "    <tr>\n",
       "      <th>...</th>\n",
       "      <td>...</td>\n",
       "      <td>...</td>\n",
       "      <td>...</td>\n",
       "      <td>...</td>\n",
       "      <td>...</td>\n",
       "      <td>...</td>\n",
       "      <td>...</td>\n",
       "      <td>...</td>\n",
       "      <td>...</td>\n",
       "      <td>...</td>\n",
       "      <td>...</td>\n",
       "      <td>...</td>\n",
       "    </tr>\n",
       "    <tr>\n",
       "      <th>842392</th>\n",
       "      <td>828258</td>\n",
       "      <td>69a9562c199f4cb8ba87cc5ab3f4dfef</td>\n",
       "      <td>464.451114</td>\n",
       "      <td>METAL</td>\n",
       "      <td>54469ef6-7bb4-42ad-ac7f-a516b83f314e</td>\n",
       "      <td>caee2141602d4baf98de</td>\n",
       "      <td>2021-02-02 17:43:39.657000+00:00</td>\n",
       "      <td>2021-02-02 17:42:47.879000+00:00</td>\n",
       "      <td>2021-02-02</td>\n",
       "      <td>51.778</td>\n",
       "      <td>103056.535</td>\n",
       "      <td>0.000502</td>\n",
       "    </tr>\n",
       "    <tr>\n",
       "      <th>842393</th>\n",
       "      <td>828286</td>\n",
       "      <td>480de5efb2dc43d2bdde8d519e872e57</td>\n",
       "      <td>432.677918</td>\n",
       "      <td>ROCK</td>\n",
       "      <td>e1a3dd68-70c3-4fff-a237-506774d7c941</td>\n",
       "      <td>caee2141602d4baf98de</td>\n",
       "      <td>2021-02-10 13:12:32.670000+00:00</td>\n",
       "      <td>2021-02-10 13:06:02.877000+00:00</td>\n",
       "      <td>2021-02-10</td>\n",
       "      <td>389.793</td>\n",
       "      <td>103056.535</td>\n",
       "      <td>0.003782</td>\n",
       "    </tr>\n",
       "    <tr>\n",
       "      <th>842394</th>\n",
       "      <td>829471</td>\n",
       "      <td>2612a87925ba4ec6832f1d8ef694ec78</td>\n",
       "      <td>420.922743</td>\n",
       "      <td>METAL</td>\n",
       "      <td>c5aee438-a443-433a-b594-0b7a2d683b41</td>\n",
       "      <td>caee2141602d4baf98de</td>\n",
       "      <td>2021-01-28 03:24:33.803000+00:00</td>\n",
       "      <td>2021-01-28 03:18:33.296000+00:00</td>\n",
       "      <td>2021-01-28</td>\n",
       "      <td>360.507</td>\n",
       "      <td>103056.535</td>\n",
       "      <td>0.003498</td>\n",
       "    </tr>\n",
       "    <tr>\n",
       "      <th>842395</th>\n",
       "      <td>836912</td>\n",
       "      <td>2640298154d643ad900409dfc32a4db0</td>\n",
       "      <td>433.222505</td>\n",
       "      <td>KPOP</td>\n",
       "      <td>0ebcc680-f789-41c2-aa1f-4aa8906da901</td>\n",
       "      <td>caee2141602d4baf98de</td>\n",
       "      <td>2021-02-10 06:15:55.103000+00:00</td>\n",
       "      <td>2021-02-10 06:15:52.593000+00:00</td>\n",
       "      <td>2021-02-10</td>\n",
       "      <td>2.510</td>\n",
       "      <td>103056.535</td>\n",
       "      <td>0.000024</td>\n",
       "    </tr>\n",
       "    <tr>\n",
       "      <th>842396</th>\n",
       "      <td>839627</td>\n",
       "      <td>7b89c2a648374d4cb90737b213b25a79</td>\n",
       "      <td>434.415027</td>\n",
       "      <td>KPOP</td>\n",
       "      <td>def293a8-bc39-4b06-9cf3-f8f3b24c9ca5</td>\n",
       "      <td>caee2141602d4baf98de</td>\n",
       "      <td>2021-02-28 17:42:48.445000+00:00</td>\n",
       "      <td>2021-02-28 17:36:23.314000+00:00</td>\n",
       "      <td>2021-02-28</td>\n",
       "      <td>385.131</td>\n",
       "      <td>103056.535</td>\n",
       "      <td>0.003737</td>\n",
       "    </tr>\n",
       "  </tbody>\n",
       "</table>\n",
       "<p>842397 rows × 12 columns</p>\n",
       "</div>"
      ],
      "text/plain": [
       "        Unnamed: 0                       audition_id  track_duration  \\\n",
       "0                0  3fecd60bf5564de7bb0064335f482b4d      336.629082   \n",
       "1             5120  5efcd1e737fc453695e3891d35a84a09      304.433401   \n",
       "2             8800  ffbbaaa29a7347b88e31e4c28ee1cec7      367.648972   \n",
       "3            10670  4760f98aba4447b89cc2cc3753d5f598      393.120824   \n",
       "4            12506  02dc00ed734b46c6b64404977e2add3c      672.053874   \n",
       "...            ...                               ...             ...   \n",
       "842392      828258  69a9562c199f4cb8ba87cc5ab3f4dfef      464.451114   \n",
       "842393      828286  480de5efb2dc43d2bdde8d519e872e57      432.677918   \n",
       "842394      829471  2612a87925ba4ec6832f1d8ef694ec78      420.922743   \n",
       "842395      836912  2640298154d643ad900409dfc32a4db0      433.222505   \n",
       "842396      839627  7b89c2a648374d4cb90737b213b25a79      434.415027   \n",
       "\n",
       "        track_genre                              track_id  \\\n",
       "0               RAP  efd614e5-239a-418e-b39c-181b43719b62   \n",
       "1              PUNK  ae74c040-d495-45c6-b1aa-65fa8db57cd4   \n",
       "2              ROCK  6e519c7e-d843-433a-8fc8-e874c3c4cd08   \n",
       "3               POP  d2a2d322-3377-4343-9ffd-b20c9c379ddc   \n",
       "4       ELECTRONICS  1013879d-5efc-4488-bd72-67d73e73dee6   \n",
       "...             ...                                   ...   \n",
       "842392        METAL  54469ef6-7bb4-42ad-ac7f-a516b83f314e   \n",
       "842393         ROCK  e1a3dd68-70c3-4fff-a237-506774d7c941   \n",
       "842394        METAL  c5aee438-a443-433a-b594-0b7a2d683b41   \n",
       "842395         KPOP  0ebcc680-f789-41c2-aa1f-4aa8906da901   \n",
       "842396         KPOP  def293a8-bc39-4b06-9cf3-f8f3b24c9ca5   \n",
       "\n",
       "                     user_id            utc_audition_end_dttm  \\\n",
       "0       a72d73ea124840698aa8 2021-02-28 12:32:10.776000+00:00   \n",
       "1       a72d73ea124840698aa8 2021-02-03 11:56:51.858000+00:00   \n",
       "2       a72d73ea124840698aa8 2021-01-29 18:01:14.981000+00:00   \n",
       "3       a72d73ea124840698aa8 2021-02-18 05:08:42.910000+00:00   \n",
       "4       a72d73ea124840698aa8 2020-12-09 15:17:46.098000+00:00   \n",
       "...                      ...                              ...   \n",
       "842392  caee2141602d4baf98de 2021-02-02 17:43:39.657000+00:00   \n",
       "842393  caee2141602d4baf98de 2021-02-10 13:12:32.670000+00:00   \n",
       "842394  caee2141602d4baf98de 2021-01-28 03:24:33.803000+00:00   \n",
       "842395  caee2141602d4baf98de 2021-02-10 06:15:55.103000+00:00   \n",
       "842396  caee2141602d4baf98de 2021-02-28 17:42:48.445000+00:00   \n",
       "\n",
       "                utc_audition_start_dttm        date  duration_time_x  \\\n",
       "0      2021-02-28 12:31:01.865000+00:00  2021-02-28           68.911   \n",
       "1      2021-02-03 11:52:40.933000+00:00  2021-02-03          250.925   \n",
       "2      2021-01-29 18:00:43.282000+00:00  2021-01-29           31.699   \n",
       "3      2021-02-18 05:01:41.307000+00:00  2021-02-18          421.603   \n",
       "4      2020-12-09 15:08:11.260000+00:00  2020-12-09          574.838   \n",
       "...                                 ...         ...              ...   \n",
       "842392 2021-02-02 17:42:47.879000+00:00  2021-02-02           51.778   \n",
       "842393 2021-02-10 13:06:02.877000+00:00  2021-02-10          389.793   \n",
       "842394 2021-01-28 03:18:33.296000+00:00  2021-01-28          360.507   \n",
       "842395 2021-02-10 06:15:52.593000+00:00  2021-02-10            2.510   \n",
       "842396 2021-02-28 17:36:23.314000+00:00  2021-02-28          385.131   \n",
       "\n",
       "        duration_time_y  audition_part  \n",
       "0            134760.131       0.000511  \n",
       "1            134760.131       0.001862  \n",
       "2            134760.131       0.000235  \n",
       "3            134760.131       0.003129  \n",
       "4            134760.131       0.004266  \n",
       "...                 ...            ...  \n",
       "842392       103056.535       0.000502  \n",
       "842393       103056.535       0.003782  \n",
       "842394       103056.535       0.003498  \n",
       "842395       103056.535       0.000024  \n",
       "842396       103056.535       0.003737  \n",
       "\n",
       "[842397 rows x 12 columns]"
      ]
     },
     "execution_count": 7,
     "metadata": {},
     "output_type": "execute_result"
    }
   ],
   "source": [
    "full = df.groupby('user_id')['duration_time'].sum()\n",
    "df = pd.merge(df,full,on='user_id')\n",
    "df['audition_part'] = df['duration_time_x'] / df['duration_time_y']\n",
    "df"
   ]
  },
  {
   "cell_type": "markdown",
   "metadata": {},
   "source": [
    "### Распределение слушателей по количеству секунд, проведенное за прослушиванием техно"
   ]
  },
  {
   "cell_type": "markdown",
   "metadata": {},
   "source": [
    "Прослушивания меньше 10 секунд я считаю за пропуск трека, соответственно в статистиках такие прослушивания не учитываются."
   ]
  },
  {
   "cell_type": "code",
   "execution_count": 8,
   "metadata": {},
   "outputs": [
    {
     "data": {
      "text/plain": [
       "<matplotlib.axes._subplots.AxesSubplot at 0x7fa053dfdf40>"
      ]
     },
     "execution_count": 8,
     "metadata": {},
     "output_type": "execute_result"
    },
    {
     "data": {
      "image/png": "[encoded data removed]",
      "text/plain": [
       "<Figure size 432x288 with 1 Axes>"
      ]
     },
     "metadata": {
      "needs_background": "light"
     },
     "output_type": "display_data"
    }
   ],
   "source": [
    "techno_duration_rate = df.where((df[\"track_genre\"]=='TECHNO')&(df['duration_time_x']>10)).groupby(\"user_id\")['duration_time_x'].sum().sort_values(ascending=False)\n",
    "techno_duration_rate.hist()"
   ]
  },
  {
   "cell_type": "markdown",
   "metadata": {},
   "source": [
    "### Какую долю занимает техно среди прослушанной музыки для каждого слушателя?"
   ]
  },
  {
   "cell_type": "code",
   "execution_count": 9,
   "metadata": {},
   "outputs": [
    {
     "data": {
      "text/plain": [
       "<matplotlib.axes._subplots.AxesSubplot at 0x7fa053d74a00>"
      ]
     },
     "execution_count": 9,
     "metadata": {},
     "output_type": "execute_result"
    },
    {
     "data": {
      "image/png": "[encoded data removed]",
      "text/plain": [
       "<Figure size 432x288 with 1 Axes>"
      ]
     },
     "metadata": {
      "needs_background": "light"
     },
     "output_type": "display_data"
    }
   ],
   "source": [
    "techno_part_rate = df.where((df[\"track_genre\"]=='TECHNO')&(df['duration_time_x']>10)).groupby(\"user_id\")['audition_part'].sum().sort_values(ascending=False)\n",
    "techno_part_rate.hist()"
   ]
  },
  {
   "cell_type": "markdown",
   "metadata": {},
   "source": [
    "### Как часто люди слушают техно хотя бы раз в день? "
   ]
  },
  {
   "cell_type": "markdown",
   "metadata": {},
   "source": [
    "Распределение слушателей по количеству дней, в которые они послушали хотя бы один трек техно, за последние пару месяцев."
   ]
  },
  {
   "cell_type": "code",
   "execution_count": 10,
   "metadata": {
    "scrolled": true
   },
   "outputs": [
    {
     "data": {
      "text/plain": [
       "<matplotlib.axes._subplots.AxesSubplot at 0x7fa053cb6610>"
      ]
     },
     "execution_count": 10,
     "metadata": {},
     "output_type": "execute_result"
    },
    {
     "data": {
      "image/png": "[encoded data removed]",
      "text/plain": [
       "<Figure size 432x288 with 1 Axes>"
      ]
     },
     "metadata": {
      "needs_background": "light"
     },
     "output_type": "display_data"
    }
   ],
   "source": [
    "techno_often_rate = df.where((df[\"track_genre\"]=='TECHNO')&(df['utc_audition_start_dttm'].dt.year==2021)).groupby('user_id').agg({'date': 'nunique'})['date'].sort_values(ascending=False)\n",
    "techno_often_rate.hist()"
   ]
  },
  {
   "cell_type": "markdown",
   "metadata": {},
   "source": [
    "### Какое DAU в этом году? За последний месяц?"
   ]
  },
  {
   "cell_type": "code",
   "execution_count": 16,
   "metadata": {},
   "outputs": [
    {
     "name": "stdout",
     "output_type": "stream",
     "text": [
      "Ежедневная аудитория DAU в 2021 году 623.53 человек\n",
      "Ежедневная аудитория DAU в феврале 949.71 человек\n"
     ]
    }
   ],
   "source": [
    "DAU = df.where((df[\"track_genre\"]=='TECHNO')&(df['utc_audition_start_dttm'].dt.year==2021)&(df['duration_time_x']>30)).groupby('date').agg({'user_id': 'nunique'}).mean()\n",
    "print(\"Ежедневная аудитория DAU в 2021 году {0:.2f} человек\".format(DAU[0]))\n",
    "\n",
    "DAU_feb = df.where((df[\"track_genre\"]=='TECHNO')&(df['utc_audition_start_dttm'].dt.month==2)&(df['duration_time_x']>30)).groupby('date').agg({'user_id': 'nunique'}).mean()\n",
    "print(\"Ежедневная аудитория DAU в феврале {0:.2f} человек\".format(DAU_feb[0]))"
   ]
  },
  {
   "cell_type": "markdown",
   "metadata": {},
   "source": [
    "# Шаг 3: Выбор параметров и отбор людей "
   ]
  },
  {
   "cell_type": "markdown",
   "metadata": {},
   "source": [
    "## Отбор людей для приглашения на фестиваль\n",
    "- Статистика по трем выбранным метрикам\n",
    "- Отбор наиболее активных слушателей по всем трех метрикам\n",
    "- Получение списка слушателей для отправки приглашений"
   ]
  },
  {
   "cell_type": "markdown",
   "metadata": {},
   "source": [
    "### Статистика по трем выбранным метрикам (длительность прослушивания, доля техно, частота)"
   ]
  },
  {
   "cell_type": "code",
   "execution_count": 11,
   "metadata": {},
   "outputs": [
    {
     "data": {
      "text/html": [
       "<div>\n",
       "<style scoped>\n",
       "    .dataframe tbody tr th:only-of-type {\n",
       "        vertical-align: middle;\n",
       "    }\n",
       "\n",
       "    .dataframe tbody tr th {\n",
       "        vertical-align: top;\n",
       "    }\n",
       "\n",
       "    .dataframe thead th {\n",
       "        text-align: right;\n",
       "    }\n",
       "</style>\n",
       "<table border=\"1\" class=\"dataframe\">\n",
       "  <thead>\n",
       "    <tr style=\"text-align: right;\">\n",
       "      <th></th>\n",
       "      <th>audition_part</th>\n",
       "      <th>duration_time_x</th>\n",
       "      <th>date</th>\n",
       "    </tr>\n",
       "    <tr>\n",
       "      <th>user_id</th>\n",
       "      <th></th>\n",
       "      <th></th>\n",
       "      <th></th>\n",
       "    </tr>\n",
       "  </thead>\n",
       "  <tbody>\n",
       "    <tr>\n",
       "      <th>e0b9c90c4f27488ba8ca</th>\n",
       "      <td>0.111237</td>\n",
       "      <td>7107.436</td>\n",
       "      <td>16</td>\n",
       "    </tr>\n",
       "    <tr>\n",
       "      <th>ee0137e0a29f49dfaddb</th>\n",
       "      <td>0.101587</td>\n",
       "      <td>11522.839</td>\n",
       "      <td>25</td>\n",
       "    </tr>\n",
       "    <tr>\n",
       "      <th>64b6c65c4129495ba6a7</th>\n",
       "      <td>0.101239</td>\n",
       "      <td>20474.326</td>\n",
       "      <td>26</td>\n",
       "    </tr>\n",
       "    <tr>\n",
       "      <th>08915ae5122e426d91e9</th>\n",
       "      <td>0.100488</td>\n",
       "      <td>13857.149</td>\n",
       "      <td>24</td>\n",
       "    </tr>\n",
       "    <tr>\n",
       "      <th>f8d3066844134fbe8cb7</th>\n",
       "      <td>0.096729</td>\n",
       "      <td>5975.123</td>\n",
       "      <td>15</td>\n",
       "    </tr>\n",
       "    <tr>\n",
       "      <th>...</th>\n",
       "      <td>...</td>\n",
       "      <td>...</td>\n",
       "      <td>...</td>\n",
       "    </tr>\n",
       "    <tr>\n",
       "      <th>8eb5ee0225a74f8e8073</th>\n",
       "      <td>0.022931</td>\n",
       "      <td>1795.465</td>\n",
       "      <td>7</td>\n",
       "    </tr>\n",
       "    <tr>\n",
       "      <th>b34b034fcd924f9c8b5c</th>\n",
       "      <td>0.021848</td>\n",
       "      <td>2106.904</td>\n",
       "      <td>7</td>\n",
       "    </tr>\n",
       "    <tr>\n",
       "      <th>5687f9d340f7489fb565</th>\n",
       "      <td>0.021725</td>\n",
       "      <td>3321.514</td>\n",
       "      <td>12</td>\n",
       "    </tr>\n",
       "    <tr>\n",
       "      <th>8a5da3efdf084dc09196</th>\n",
       "      <td>0.021565</td>\n",
       "      <td>3620.648</td>\n",
       "      <td>17</td>\n",
       "    </tr>\n",
       "    <tr>\n",
       "      <th>52954001ebf6474586ba</th>\n",
       "      <td>0.010855</td>\n",
       "      <td>254.960</td>\n",
       "      <td>3</td>\n",
       "    </tr>\n",
       "  </tbody>\n",
       "</table>\n",
       "<p>1727 rows × 3 columns</p>\n",
       "</div>"
      ],
      "text/plain": [
       "                      audition_part  duration_time_x  date\n",
       "user_id                                                   \n",
       "e0b9c90c4f27488ba8ca       0.111237         7107.436    16\n",
       "ee0137e0a29f49dfaddb       0.101587        11522.839    25\n",
       "64b6c65c4129495ba6a7       0.101239        20474.326    26\n",
       "08915ae5122e426d91e9       0.100488        13857.149    24\n",
       "f8d3066844134fbe8cb7       0.096729         5975.123    15\n",
       "...                             ...              ...   ...\n",
       "8eb5ee0225a74f8e8073       0.022931         1795.465     7\n",
       "b34b034fcd924f9c8b5c       0.021848         2106.904     7\n",
       "5687f9d340f7489fb565       0.021725         3321.514    12\n",
       "8a5da3efdf084dc09196       0.021565         3620.648    17\n",
       "52954001ebf6474586ba       0.010855          254.960     3\n",
       "\n",
       "[1727 rows x 3 columns]"
      ]
     },
     "execution_count": 11,
     "metadata": {},
     "output_type": "execute_result"
    }
   ],
   "source": [
    "df_an = pd.merge(techno_part_rate,techno_duration_rate,on='user_id')\n",
    "df_an = pd.merge(df_an,techno_often_rate,on='user_id')\n",
    "df_an"
   ]
  },
  {
   "cell_type": "code",
   "execution_count": 12,
   "metadata": {},
   "outputs": [
    {
     "data": {
      "text/html": [
       "<div>\n",
       "<style scoped>\n",
       "    .dataframe tbody tr th:only-of-type {\n",
       "        vertical-align: middle;\n",
       "    }\n",
       "\n",
       "    .dataframe tbody tr th {\n",
       "        vertical-align: top;\n",
       "    }\n",
       "\n",
       "    .dataframe thead th {\n",
       "        text-align: right;\n",
       "    }\n",
       "</style>\n",
       "<table border=\"1\" class=\"dataframe\">\n",
       "  <thead>\n",
       "    <tr style=\"text-align: right;\">\n",
       "      <th></th>\n",
       "      <th>audition_part</th>\n",
       "      <th>duration_time_x</th>\n",
       "      <th>date</th>\n",
       "    </tr>\n",
       "  </thead>\n",
       "  <tbody>\n",
       "    <tr>\n",
       "      <th>median</th>\n",
       "      <td>0.050491</td>\n",
       "      <td>10415.19000</td>\n",
       "      <td>22.000000</td>\n",
       "    </tr>\n",
       "    <tr>\n",
       "      <th>mean</th>\n",
       "      <td>0.051343</td>\n",
       "      <td>10591.15655</td>\n",
       "      <td>21.815866</td>\n",
       "    </tr>\n",
       "  </tbody>\n",
       "</table>\n",
       "</div>"
      ],
      "text/plain": [
       "        audition_part  duration_time_x       date\n",
       "median       0.050491      10415.19000  22.000000\n",
       "mean         0.051343      10591.15655  21.815866"
      ]
     },
     "execution_count": 12,
     "metadata": {},
     "output_type": "execute_result"
    }
   ],
   "source": [
    "df_an[[\"audition_part\", \"duration_time_x\", \"date\"]].agg(['median', 'mean'])"
   ]
  },
  {
   "cell_type": "markdown",
   "metadata": {},
   "source": [
    "### Отбор наиболее активных слушателей по всем трех метрикам\n",
    "#### Отберем слушателей:\n",
    "- которые больше, чем большинство, слушали техно за все время ведения логов (более 200мин техно)\n",
    "- у которых доля техно в логах больше, чем у большинства (более 6% техно)\n",
    "- которые чаще других заходят послушать техно (за последние пару месяцев заходили примерно через день)"
   ]
  },
  {
   "cell_type": "code",
   "execution_count": 24,
   "metadata": {},
   "outputs": [
    {
     "data": {
      "text/plain": [
       "<matplotlib.collections.PathCollection at 0x7fa053a7a850>"
      ]
     },
     "execution_count": 24,
     "metadata": {},
     "output_type": "execute_result"
    },
    {
     "data": {
      "image/png": "[encoded data removed]",
      "text/plain": [
       "<Figure size 432x288 with 1 Axes>"
      ]
     },
     "metadata": {
      "needs_background": "light"
     },
     "output_type": "display_data"
    }
   ],
   "source": [
    "filter=(df_an['duration_time_x']>12000)|(df_an['audition_part']>0.06)|(df_an['date']>25)\n",
    "\n",
    "plt.scatter(df_an['duration_time_x'],df_an['audition_part'])\n",
    "plt.title(\"Techno listeners\")\n",
    "plt.ylabel('Techno part in their logs')\n",
    "plt.xlabel('Time spent on techno')\n",
    "plt.scatter(df_an.where(filter)['duration_time_x'],df_an.where(filter)['audition_part'])"
   ]
  },
  {
   "cell_type": "markdown",
   "metadata": {},
   "source": [
    "### Получение списка слушателей для отправки приглашений"
   ]
  },
  {
   "cell_type": "code",
   "execution_count": 25,
   "metadata": {},
   "outputs": [
    {
     "data": {
      "text/plain": [
       "Index(['e0b9c90c4f27488ba8ca', 'ee0137e0a29f49dfaddb', '64b6c65c4129495ba6a7',\n",
       "       '08915ae5122e426d91e9', 'f8d3066844134fbe8cb7', '47a5213087cd4f67a1be',\n",
       "       'f4bcf1a2eb9f46a2bc8e', '0cf85d723c7c4041ad7f', '7ad3d1dd2c1f4aef827a',\n",
       "       '52d67a8f7d5c4aceaf5f',\n",
       "       ...\n",
       "       'e0a8d03623754c01b823', 'e8023936a3874987a6c1', '5da627b5da4a4a3080d3',\n",
       "       'c948a3f7c9a441799582', 'ce930aa717e64b2fab78', '0e2be0d4917c49dca3dc',\n",
       "       '7d27c028314145169116', 'a58ee0f5e56f46048ce9', '1f278b466b6f41baa360',\n",
       "       '098b5146d1b148859377'],\n",
       "      dtype='object', name='user_id', length=803)"
      ]
     },
     "execution_count": 25,
     "metadata": {},
     "output_type": "execute_result"
    }
   ],
   "source": [
    "df_an.query('duration_time_x > 12000 or audition_part > 0.06 or date > 25').index"
   ]
  },
  {
   "cell_type": "markdown",
   "metadata": {},
   "source": [
    "# Шаг 4: Прочие советы маркетологу\n",
    "## Выбор параметров письма\n",
    "- Наиболее любимые публикой песни\n",
    "- Самый \"техно\" день среди дней недели"
   ]
  },
  {
   "cell_type": "markdown",
   "metadata": {},
   "source": [
    "### 10 песен, которые слушают больше всего\n",
    "Можно включить какие-нибудь из них в письмо и позвать исполнителей этих треков на фестиваль"
   ]
  },
  {
   "cell_type": "code",
   "execution_count": 15,
   "metadata": {},
   "outputs": [
    {
     "data": {
      "text/plain": [
       "track_id\n",
       "ac3e2b60-d608-48e9-9977-a11690d8f4dc    89419.125\n",
       "f39e8c9e-b18b-4e11-9aac-d0e3e04c5dd8    83193.054\n",
       "3c8bc4c4-9b57-48a1-9667-3611e6c3a2cb    81253.439\n",
       "1e93bb75-5290-49a5-8f93-9a5f9f857665    80080.808\n",
       "c098633a-0594-40d9-b342-1a8c1add4c19    79630.947\n",
       "221213b8-9a38-4421-9db7-ea2bd628312b    79374.318\n",
       "12cd16da-e9d5-496a-8d8a-ddecc780b268    78914.057\n",
       "2f4468fb-dbb0-46a4-b329-bdc901070cef    76593.374\n",
       "8a596dd7-b8c1-4b4f-a7b5-537e573702ad    76156.310\n",
       "4a9131ee-e2bc-4357-9144-14e2ed9fc49e    76077.721\n",
       "Name: duration_time_x, dtype: float64"
      ]
     },
     "execution_count": 15,
     "metadata": {},
     "output_type": "execute_result"
    }
   ],
   "source": [
    "df.where((df[\"track_genre\"]=='TECHNO')&(df['duration_time_x']>30)).groupby(\"track_id\")['duration_time_x'].sum().sort_values(ascending=False).head(10)"
   ]
  },
  {
   "cell_type": "markdown",
   "metadata": {},
   "source": [
    "### Дни недели, в которые больше всего слушают техно\n",
    "Можно отправить письмо в выходные или понедельник (особенно в воскресенье) - дни недели, когда люди больше всего слушают техно. Есть вероятность попасть в настроение :)"
   ]
  },
  {
   "cell_type": "code",
   "execution_count": 28,
   "metadata": {},
   "outputs": [
    {
     "data": {
      "text/plain": [
       "<matplotlib.axes._subplots.AxesSubplot at 0x7fa0539eb670>"
      ]
     },
     "execution_count": 28,
     "metadata": {},
     "output_type": "execute_result"
    },
    {
     "data": {
      "image/png": "[encoded data removed]",
      "text/plain": [
       "<Figure size 432x288 with 1 Axes>"
      ]
     },
     "metadata": {
      "needs_background": "light"
     },
     "output_type": "display_data"
    }
   ],
   "source": [
    "df['weekday'] = df['utc_audition_start_dttm'].dt.weekday\n",
    "techno_weekday_rate = df.where((df[\"track_genre\"]=='TECHNO')&(df['duration_time_x']>10)) \n",
    "sns.countplot(x=\"weekday\", data=techno_weekday_rate)"
   ]
  },
  {
   "cell_type": "markdown",
   "metadata": {},
   "source": [
    "# Выводы"
   ]
  },
  {
   "cell_type": "markdown",
   "metadata": {},
   "source": [
    "- Отобрали примерно половину людей, слушающих техно - самых активных по времени, доле или частоте прослушивания техно (803 человека из 1727)\n",
    "- Не все деньги из полученных 700 руб с одного билета мы можем потратить на рекламу, так как надо еще оплатить площадку (фестиваль оффлайн), работу исполнителей, людей на площадке\n",
    "- Допустимая цена конверсии в покупку билета, по моему мнению - 100 руб. Тогда надо, чтобы хотя бы каждый 10й из приглашенных пришел на фестиваль\n",
    "- Поскольку мы выбрали самых активных, я думаю, что наберутся 80 человек из этих 803, которые проживают в нужном городе и являются активной публикой (то есть вообще склонны к посещению концертов)\n",
    "- Рассылка приглашений в воскресенье и включение в письмо и в программу фестиваля наиболее любимых публикой исполнителей может повысить конверсию в покупку билета на фест"
   ]
  },
  {
   "cell_type": "code",
   "execution_count": null,
   "metadata": {},
   "outputs": [],
   "source": []
  }
 ],
 "metadata": {
  "kernelspec": {
   "display_name": "Python 3",
   "language": "python",
   "name": "python3"
  },
  "language_info": {
   "codemirror_mode": {
    "name": "ipython",
    "version": 3
   },
   "file_extension": ".py",
   "mimetype": "text/x-python",
   "name": "python",
   "nbconvert_exporter": "python",
   "pygments_lexer": "ipython3",
   "version": "3.8.5"
  }
 },
 "nbformat": 4,
 "nbformat_minor": 4
}
